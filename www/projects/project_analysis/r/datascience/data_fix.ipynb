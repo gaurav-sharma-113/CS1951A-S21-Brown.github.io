{
  "nbformat": 4,
  "nbformat_minor": 0,
  "metadata": {
    "colab": {
      "name": "data_fix.ipynb",
      "provenance": [],
      "collapsed_sections": []
    },
    "kernelspec": {
      "name": "python3",
      "display_name": "Python 3"
    }
  },
  "cells": [
    {
      "cell_type": "code",
      "metadata": {
        "id": "zmdoaxcX9WBw",
        "colab_type": "code",
        "colab": {}
      },
      "source": [
        "import json\n",
        "import numpy as np\n",
        "from tqdm import tqdm_notebook\n",
        "from collections import defaultdict"
      ],
      "execution_count": 0,
      "outputs": []
    },
    {
      "cell_type": "code",
      "metadata": {
        "id": "7-BIAjd4nkc8",
        "colab_type": "code",
        "colab": {}
      },
      "source": [
        "!unzip /content/matrix.pkl.zip"
      ],
      "execution_count": 0,
      "outputs": []
    },
    {
      "cell_type": "code",
      "metadata": {
        "id": "dAbDnHl2HO2g",
        "colab_type": "code",
        "colab": {}
      },
      "source": [
        "import pandas as pd\n",
        "import pickle\n",
        "\n",
        "df = pd.read_pickle('/content/matrix.pkl')\n",
        "\n",
        "print(df)\n",
        "\n",
        "print(len(df.columns))"
      ],
      "execution_count": 0,
      "outputs": []
    },
    {
      "cell_type": "code",
      "metadata": {
        "id": "h5RU2BpT9PzW",
        "colab_type": "code",
        "colab": {}
      },
      "source": [
        "index = 0\n",
        "new_df = pd.DataFrame()\n",
        "#initialise data frame with first column\n",
        "for name in df.columns[0:1]:\n",
        "  name_col = df[name]\n",
        "\n",
        "\n",
        "for col in df.columns[1:2]:\n",
        "  new = df[[col]]\n",
        "  new.columns = ['comments']\n",
        "  new.insert(1, 'subreddit', names[index])\n",
        "  new.insert(0, 'user', name_col)\n",
        "  index += 1\n",
        "\n",
        "col_list = list(new)\n",
        "# use this handy way to swap the elements\n",
        "col_list[1], col_list[2] = col_list[2], col_list[1]\n",
        "# assign back, the order will now be swapped\n",
        "new.columns = col_list\n",
        "print(new.head(3))\n"
      ],
      "execution_count": 0,
      "outputs": []
    },
    {
      "cell_type": "code",
      "metadata": {
        "id": "mPu4m4lnNnab",
        "colab_type": "code",
        "colab": {}
      },
      "source": [
        "for col in df.columns[2:]:\n",
        "  print(index)\n",
        "  append_frame = df[[col]]\n",
        "  append_frame.columns = ['comments']\n",
        "  append_frame.insert(1, 'subreddit', names[index])\n",
        "  append_frame.insert(0, 'user', name_col)\n",
        "  col_list = list(append_frame)\n",
        "# use this handy way to swap the elements\n",
        "  col_list[1], col_list[2] = col_list[2], col_list[1]\n",
        "  append_frame.columns = col_list\n",
        "  index += 1\n",
        "  new = new.append(append_frame) "
      ],
      "execution_count": 0,
      "outputs": []
    },
    {
      "cell_type": "code",
      "metadata": {
        "id": "3ftQFiSjZDHa",
        "colab_type": "code",
        "colab": {}
      },
      "source": [
        "new_df.to_pickle(\"./long_asf_reformatted.pkl\")"
      ],
      "execution_count": 0,
      "outputs": []
    },
    {
      "cell_type": "code",
      "metadata": {
        "id": "iqOJuGKQUGS5",
        "colab_type": "code",
        "outputId": "457e42c0-d245-4b57-8f39-f1bc38207c05",
        "colab": {
          "base_uri": "https://localhost:8080/",
          "height": 34
        }
      },
      "source": [
        "!zip long_asf_reformatted.pkl.zip /content/long_asf_reformatted.pkl"
      ],
      "execution_count": 0,
      "outputs": [
        {
          "output_type": "stream",
          "text": [
            "  adding: content/long_asf_reformatted.pkl (deflated 94%)\n"
          ],
          "name": "stdout"
        }
      ]
    }
  ]
}