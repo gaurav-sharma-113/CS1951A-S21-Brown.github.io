{
  "nbformat": 4,
  "nbformat_minor": 0,
  "metadata": {
    "colab": {
      "name": "analysis_als.ipynb",
      "provenance": [],
      "collapsed_sections": []
    },
    "kernelspec": {
      "name": "python3",
      "display_name": "Python 3"
    },
    "accelerator": "GPU"
  },
  "cells": [
    {
      "cell_type": "code",
      "metadata": {
        "id": "1yzznFhElhdR",
        "colab_type": "code",
        "colab": {}
      },
      "source": [
        "!pip install implicit==0.4.0 # takes care of an error in bpr\n",
        "!pip3 install plotly==3.10"
      ],
      "execution_count": 0,
      "outputs": []
    },
    {
      "cell_type": "code",
      "metadata": {
        "id": "kTqTp508ZRQO",
        "colab_type": "code",
        "colab": {}
      },
      "source": [
        "import pandas as pd\n",
        "import pickle\n",
        "import implicit\n",
        "import numpy as np\n",
        "from tqdm import tqdm_notebook\n",
        "import pandas as pd\n",
        "import csv \n",
        "import scipy\n",
        "import random\n",
        "from scipy.sparse import coo_matrix\n",
        "from scipy.sparse.linalg import svds\n",
        "from implicit.nearest_neighbours import bm25_weight\n",
        "from implicit import alternating_least_squares\n",
        "import umap\n",
        "import plotly\n",
        "import plotly.plotly as py\n",
        "import plotly.graph_objs as go\n"
      ],
      "execution_count": 0,
      "outputs": []
    },
    {
      "cell_type": "code",
      "metadata": {
        "id": "b3Hi6BJyEkqM",
        "colab_type": "code",
        "colab": {}
      },
      "source": [
        "data = []\n",
        "#upload \n",
        "with open('/content/final_data') as files:\n",
        "    read = csv.reader(files, delimiter=' ')\n",
        "    for s, u, c, burn in read:\n",
        "        data.append([u, s, int(c)])\n",
        "\n",
        "#efficient conversion\n",
        "data = pd.DataFrame.from_records(data)\n",
        "data.columns = ['user', 'subreddit', 'comments']\n",
        "\n",
        "#resolve errors through conversion to category.\n",
        "data['user'] = data['user'].astype(\"category\")\n",
        "data['subreddit'] = data['subreddit'].astype(\"category\")"
      ],
      "execution_count": 0,
      "outputs": []
    },
    {
      "cell_type": "code",
      "metadata": {
        "id": "vOR0wvPvedFR",
        "colab_type": "code",
        "colab": {}
      },
      "source": [
        "#sparse matrix\n",
        "comment_data = data['comments'].astype(float)\n",
        "#categorized each of the variables into numbers\n",
        "subreddit_data = data['subreddit'].cat.codes\n",
        "user_data = data['user'].cat.codes\n",
        "joined = (subreddit_data, user_data)"
      ],
      "execution_count": 0,
      "outputs": []
    },
    {
      "cell_type": "code",
      "metadata": {
        "id": "Ma314li4OloJ",
        "colab_type": "code",
        "colab": {}
      },
      "source": [
        "processed_comments = coo_matrix((comment_data, joined))\n",
        "weighted = bm25_weight(processed_comments)"
      ],
      "execution_count": 0,
      "outputs": []
    },
    {
      "cell_type": "code",
      "metadata": {
        "id": "8DaQ2FbGE1RE",
        "colab_type": "code",
        "colab": {}
      },
      "source": [
        "np.save(\"crazy_rich_bayesian\", weighted)"
      ],
      "execution_count": 0,
      "outputs": []
    },
    {
      "cell_type": "code",
      "metadata": {
        "id": "FByJXybDSYJl",
        "colab_type": "code",
        "colab": {}
      },
      "source": [
        "sub, usr = alternating_least_squares(weighted, 32)"
      ],
      "execution_count": 0,
      "outputs": []
    },
    {
      "cell_type": "code",
      "metadata": {
        "id": "m5kWjQfFUt3m",
        "colab_type": "code",
        "colab": {}
      },
      "source": [
        "N = 10\n",
        "def most_related_subs_als(subreddit_name, num, sub_factors):\n",
        "  normalise = np.linalg.norm(sub_factors, axis=-1)[:, np.newaxis]\n",
        "  factors = sub_factors / normalise\n",
        "  subreddits = data['subreddit'].cat.categories\n",
        "  for x, y in enumerate(subreddits):\n",
        "    if y == subreddit_name:\n",
        "        id = x\n",
        "  scores = factors.dot(factors[id])\n",
        "  best = np.argpartition(scores, -num)[-num:]\n",
        "  best_subs = [subreddits[i] for i in best]\n",
        "  return sorted(zip(best_subs, scores[best]), key=lambda x: -x[1])"
      ],
      "execution_count": 0,
      "outputs": []
    },
    {
      "cell_type": "code",
      "metadata": {
        "id": "ShOY3dsvj0ND",
        "colab_type": "code",
        "colab": {}
      },
      "source": [
        "N = 10\n",
        "most_related_subs_als('thesimslegacies', N, sub)"
      ],
      "execution_count": 0,
      "outputs": []
    },
    {
      "cell_type": "code",
      "metadata": {
        "id": "W1a81jJkU4OG",
        "colab_type": "code",
        "colab": {}
      },
      "source": [
        "# manifold based dimension reduction algorithm for clustering. \n",
        "#https://umap-learn.readthedocs.io/en/latest/basic_usage.html\n",
        "umap_out = umap.UMAP(min_dist=0.1).fit_transform(sub)"
      ],
      "execution_count": 0,
      "outputs": []
    },
    {
      "cell_type": "code",
      "metadata": {
        "id": "n3swc0eEVV_v",
        "colab_type": "code",
        "colab": {}
      },
      "source": [
        "subreddits = data['subreddit'].cat.categories.array.to_numpy()\n",
        "#take a sample of 5000 subreddits\n",
        "index_value_pair = random.sample(list(enumerate(subreddits)), 1000)\n",
        "index_values_only = [x[0] for x in index_value_pair]\n",
        "embedded_vals_x = umap_out[index_values_only][:, 0]\n",
        "embedded_vals_y = umap_out[index_values_only][:, 1]\n"
      ],
      "execution_count": 0,
      "outputs": []
    },
    {
      "cell_type": "code",
      "metadata": {
        "id": "tZFe18Y5Vc1y",
        "colab_type": "code",
        "colab": {}
      },
      "source": [
        "plotly.tools.set_credentials_file(username='bellaav', api_key='su4phSOhT17Cy6t993qF')\n",
        "\n",
        "plot = go.Scatter(\n",
        "    x = embedded_vals_x,\n",
        "    y = embedded_vals_y,\n",
        "    mode='markers+text',\n",
        "    text=subreddits[index_values_only]\n",
        ")\n",
        "\n",
        "py.iplot([plot], filename='datascience')\n",
        "\n",
        "#we suspect the plots don't look good due to the variety of subreddits."
      ],
      "execution_count": 0,
      "outputs": []
    }
  ]
}