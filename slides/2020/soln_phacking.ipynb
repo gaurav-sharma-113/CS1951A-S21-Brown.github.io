{
 "cells": [
  {
   "cell_type": "markdown",
   "metadata": {},
   "source": [
    "### Stats Models Examples"
   ]
  },
  {
   "cell_type": "code",
   "execution_count": null,
   "metadata": {},
   "outputs": [],
   "source": [
    "import pandas as pd\n",
    "import statsmodels.api as sm\n",
    "import numpy as np\n",
    "import matplotlib.pyplot as plt"
   ]
  },
  {
   "cell_type": "code",
   "execution_count": null,
   "metadata": {},
   "outputs": [],
   "source": [
    "# read in the data\n",
    "data = pd.read_csv(\"2020-03-03-lecture10-phacking-data.txt\", sep=\"\\t\")\n",
    "print(data)"
   ]
  },
  {
   "cell_type": "code",
   "execution_count": null,
   "metadata": {},
   "outputs": [],
   "source": [
    "# option 1: specify regression using list of columns from your data\n",
    "data = sm.add_constant(data)\n",
    "model = sm.OLS(data[\"y\"], data[[\"X\", \"const\"]])\n",
    "\n",
    "results = model.fit()\n",
    "print(results.summary())"
   ]
  },
  {
   "cell_type": "code",
   "execution_count": null,
   "metadata": {},
   "outputs": [],
   "source": [
    "# option 2: specify regression using formula\n",
    "import statsmodels.formula.api as smf\n",
    "\n",
    "eq = \"y ~ X + X^2\"\n",
    "model = smf.ols(formula=eq, data=data)\n",
    "\n",
    "results = model.fit()\n",
    "print(results.summary())"
   ]
  },
  {
   "cell_type": "code",
   "execution_count": null,
   "metadata": {},
   "outputs": [],
   "source": [
    "# example of modeling a non-linear relationship\n",
    "\n",
    "x = np.random.uniform(1, 10, 100)\n",
    "noise = np.random.uniform(0, 1, 100)\n",
    "obs = x+noise\n",
    "y = x**2\n",
    "plt.scatter(obs**2, y)\n",
    "plt.show()\n",
    "\n",
    "data = pd.DataFrame.from_dict({\"y\": y, \"obs\": obs}) \n",
    "data[\"obs^2\"] = data[\"obs\"]**2\n",
    "data = sm.add_constant(data)\n",
    "\n",
    "model = sm.OLS(data[\"y\"], data[[\"obs\", \"obs^2\", \"const\"]])\n",
    "results = model.fit()\n",
    "print(results.summary())"
   ]
  },
  {
   "cell_type": "markdown",
   "metadata": {},
   "source": [
    "### P-Value False Positives"
   ]
  },
  {
   "cell_type": "code",
   "execution_count": null,
   "metadata": {},
   "outputs": [],
   "source": [
    "from scipy.stats import ttest_ind\n",
    "\n",
    "pvals = []\n",
    "\n",
    "for _ in range(100):\n",
    "    cs = np.random.normal(loc=130, scale=10, size=50)\n",
    "    non = np.random.normal(loc=130, scale=10, size=50)\n",
    "\n",
    "    t, p = ttest_ind(cs, non)\n",
    "    pvals.append(p)\n",
    "\n",
    "    #plt.hist([cs, non])\n",
    "    #plt.show()\n",
    "plt.hist(pvals, bins=20)\n",
    "plt.axvline(0.05, color='k', ls='--')\n",
    "plt.show()\n",
    "\n",
    "plt.hist(pvals, bins=20, cumulative=True, density=True)\n",
    "plt.axhline(0.05, color='k', ls='--')\n",
    "plt.show()"
   ]
  }
 ],
 "metadata": {
  "kernelspec": {
   "display_name": "Python 3",
   "language": "python",
   "name": "python3"
  },
  "language_info": {
   "codemirror_mode": {
    "name": "ipython",
    "version": 3
   },
   "file_extension": ".py",
   "mimetype": "text/x-python",
   "name": "python",
   "nbconvert_exporter": "python",
   "pygments_lexer": "ipython3",
   "version": "3.6.5"
  }
 },
 "nbformat": 4,
 "nbformat_minor": 2
}
