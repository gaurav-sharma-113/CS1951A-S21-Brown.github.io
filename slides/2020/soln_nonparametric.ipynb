{
 "cells": [
  {
   "cell_type": "code",
   "execution_count": null,
   "metadata": {},
   "outputs": [],
   "source": [
    "import pandas as pd\n",
    "import statsmodels.api as sm\n",
    "import numpy as np\n",
    "import matplotlib.pyplot as plt\n",
    "import random\n",
    "from scipy.stats import describe, norm\n",
    "from math import sqrt\n",
    "\n",
    "prop_cycle = plt.rcParams['axes.prop_cycle']\n",
    "colors = prop_cycle.by_key()['color']\n",
    "\n",
    "def median(lst):\n",
    "    return sorted(lst)[int(len(lst)/2)]\n",
    "\n",
    "def conf_int(lst):\n",
    "    lower = (len(lst)/100)*5\n",
    "    upper = (len(lst)/100)*95\n",
    "    lst = sorted(lst)\n",
    "    return (lst[int(lower)], lst[int(upper)])\n",
    "\n",
    "def plot_cis(cis):\n",
    "    mn = 10000\n",
    "    mx = 0\n",
    "    for i, ci in enumerate(cis):\n",
    "        l, u = ci\n",
    "        mn = min(mn, l-1)\n",
    "        mx = max(mx, u+1)\n",
    "    d = mx-mn\n",
    "    for i, ci in enumerate(cis):\n",
    "        l, u = ci\n",
    "        plt.scatter([l, u], [i, i], color=colors[i], lw=2)\n",
    "        plt.annotate(\"%.01f\"%l, (l, i+0.1), ha=\"center\", va=\"center\")\n",
    "        plt.annotate(\"%.01f\"%u, (u, i+0.1), ha=\"center\", va=\"center\")\n",
    "        plt.axhline(y=i, xmin=(l-mn)/d, xmax=(u-mn)/d, color=colors[i])\n",
    "    plt.xlim(mn, mx)\n",
    "    plt.ylim(-1, len(cis)+1)\n",
    "    plt.show()"
   ]
  },
  {
   "cell_type": "markdown",
   "metadata": {},
   "source": [
    "### Bootstrapped Median Difference"
   ]
  },
  {
   "cell_type": "code",
   "execution_count": null,
   "metadata": {},
   "outputs": [],
   "source": [
    "cs = np.random.normal(loc=130, scale=10, size=10)\n",
    "non = np.random.normal(loc=130, scale=10, size=10)\n",
    "\n",
    "plt.hist([cs, non], density=True, label=[\"cs\", \"non\"])\n",
    "plt.axvline(median(cs), color=colors[0], ls='--')\n",
    "plt.axvline(median(non), color=colors[1], ls='--')\n",
    "plt.legend()\n",
    "plt.show()\n"
   ]
  },
  {
   "cell_type": "code",
   "execution_count": null,
   "metadata": {},
   "outputs": [],
   "source": [
    "cs_boots = []\n",
    "non_boots = []\n",
    "diff_boots = []\n",
    "n_iter = 10000\n",
    "for _ in range(n_iter):\n",
    "    cs_med = median(np.random.choice(cs, 10))\n",
    "    cs_boots.append(cs_med)\n",
    "    non_med = median(np.random.choice(non, 10))\n",
    "    non_boots.append(non_med)\n",
    "    diff_boots.append(cs_med - non_med)\n",
    "    \n",
    "plt.hist([cs_boots, non_boots], density=True, label=[\"cs\", \"non\"])\n",
    "plt.legend()\n",
    "plt.show()\n",
    "\n",
    "# compute 95% confidence interval\n",
    "print(conf_int(cs_boots))\n",
    "print(conf_int(non_boots))\n",
    "plot_cis([conf_int(cs_boots), conf_int(non_boots)])\n",
    "\n",
    "plt.hist(diff_boots, density=True)\n",
    "plt.show()\n",
    "print(conf_int(diff_boots))"
   ]
  },
  {
   "cell_type": "markdown",
   "metadata": {},
   "source": [
    "### Simulation (GMM)"
   ]
  },
  {
   "cell_type": "code",
   "execution_count": null,
   "metadata": {},
   "outputs": [],
   "source": [
    "grades = [60, 55, 65, 66, 70, 58, 60, 68, 54, 88, 74, 76, 80, 55, 60, 90, 91, 89, 93, 95, 88, 85, 96, 89, 95]\n",
    "\n",
    "# model 1: TAs assign grades randomly centered around 75%\n",
    "def sim_1(num_iter = 1000):\n",
    "    lst = np.random.normal(loc=75, scale=5, size=num_iter)\n",
    "    return lst\n",
    "    \n",
    "# model 2: 50/50 split between nice TAs and means ones. Nice ones give grades centered at 90,\n",
    "# mean ones give grades centered at 60 \n",
    "def sim_2(num_iter = 1000):\n",
    "    lst = []\n",
    "    for _ in range(num_iter):\n",
    "        coin = np.random.uniform(0,1)\n",
    "        if coin < 0.5: \n",
    "            samp = np.random.normal(loc=60, scale=5, size=1)\n",
    "            lst.append(samp[0])\n",
    "        else:\n",
    "            samp = np.random.normal(loc=90, scale=5, size=1)\n",
    "            lst.append(samp[0])\n",
    "    return lst    \n",
    "    \n",
    "base = sim_1()\n",
    "hyp = sim_2()\n",
    "plt.hist([grades, base, hyp], density=True, label=[\"observed\", \"sim1\", \"sim2\"])\n",
    "plt.legend()\n",
    "plt.show()\n",
    "\n",
    "plt.hist(grades, density=True)\n",
    "plt.show()"
   ]
  },
  {
   "cell_type": "code",
   "execution_count": null,
   "metadata": {},
   "outputs": [],
   "source": [
    "# compute likelihood of observed data under each model\n",
    "# Note: this is informal, i.e. not a \"real\" likelihood. Its just meant to give an intuition for how this would work.\n",
    "\n",
    "# model 1: TAs assign grades randomly centered around 75%\n",
    "def likelihood_model_1(obs):\n",
    "    return sum(norm.pdf(obs, loc=75, scale=5))\n",
    "    \n",
    "# model 2: 50/50 split between nice TAs and means ones. Nice ones give grades centered at 90,\n",
    "# mean ones give grades centered at 60 \n",
    "def likelihood_model_2(obs):\n",
    "    mean_ta = norm.pdf(obs, loc=60, scale=5)\n",
    "    nice_ta = norm.pdf(obs, loc=90, scale=5)\n",
    "    return sum((0.5*mean_ta) + (0.5*nice_ta))\n",
    "\n",
    "print(likelihood_model_1(grades))\n",
    "print(likelihood_model_2(grades))"
   ]
  }
 ],
 "metadata": {
  "kernelspec": {
   "display_name": "Python 3",
   "language": "python",
   "name": "python3"
  },
  "language_info": {
   "codemirror_mode": {
    "name": "ipython",
    "version": 3
   },
   "file_extension": ".py",
   "mimetype": "text/x-python",
   "name": "python",
   "nbconvert_exporter": "python",
   "pygments_lexer": "ipython3",
   "version": "3.6.5"
  }
 },
 "nbformat": 4,
 "nbformat_minor": 2
}
